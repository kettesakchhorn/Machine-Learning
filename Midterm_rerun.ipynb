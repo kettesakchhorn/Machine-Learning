{
  "nbformat": 4,
  "nbformat_minor": 0,
  "metadata": {
    "colab": {
      "name": "Midterm_rerun.ipynb",
      "provenance": [],
      "collapsed_sections": [],
      "authorship_tag": "ABX9TyPFQ2ALQS06q4evCKC+rDoe",
      "include_colab_link": true
    },
    "kernelspec": {
      "name": "python3",
      "display_name": "Python 3"
    },
    "language_info": {
      "name": "python"
    }
  },
  "cells": [
    {
      "cell_type": "markdown",
      "metadata": {
        "id": "view-in-github",
        "colab_type": "text"
      },
      "source": [
        "<a href=\"https://colab.research.google.com/github/kettesakchhorn/Machine-Learning/blob/main/Midterm_rerun.ipynb\" target=\"_parent\"><img src=\"https://colab.research.google.com/assets/colab-badge.svg\" alt=\"Open In Colab\"/></a>"
      ]
    },
    {
      "cell_type": "code",
      "source": [
        "#lib\n",
        "import sklearn\n",
        "import numpy as np\n",
        "import pandas as pd\n",
        "import matplotlib.pyplot as plt\n",
        "from sklearn import datasets\n",
        "from sklearn.model_selection import train_test_split\n",
        "from sklearn.linear_model import LinearRegression"
      ],
      "metadata": {
        "id": "0MaYMHZxrMCD"
      },
      "execution_count": 1,
      "outputs": []
    },
    {
      "cell_type": "code",
      "source": [
        "dataset = pd.read_csv(\"CSCO.csv\")\n",
        "dataset.head()"
      ],
      "metadata": {
        "colab": {
          "base_uri": "https://localhost:8080/",
          "height": 206
        },
        "id": "n0vqBXVBtKDu",
        "outputId": "b78bc60b-9ff8-46b4-df33-047af341d4e1"
      },
      "execution_count": 3,
      "outputs": [
        {
          "output_type": "execute_result",
          "data": {
            "text/plain": [
              "         Date       Open       High        Low      Close  Adj Close    Volume\n",
              "0  2021-01-04  44.310001  44.369999  43.349998  43.959999  42.510708  24392500\n",
              "1  2021-01-05  43.680000  44.070000  43.380001  43.980000  42.530041  17763700\n",
              "2  2021-01-06  44.130001  44.869999  43.889999  44.400002  42.936207  21823100\n",
              "3  2021-01-07  44.200001  45.110001  44.169998  44.959999  43.477741  18218800\n",
              "4  2021-01-08  44.480000  45.410000  44.250000  45.060001  43.574444  20936300"
            ],
            "text/html": [
              "\n",
              "  <div id=\"df-dddbca9d-69e4-4ac6-a751-eaeeea4c9ac8\">\n",
              "    <div class=\"colab-df-container\">\n",
              "      <div>\n",
              "<style scoped>\n",
              "    .dataframe tbody tr th:only-of-type {\n",
              "        vertical-align: middle;\n",
              "    }\n",
              "\n",
              "    .dataframe tbody tr th {\n",
              "        vertical-align: top;\n",
              "    }\n",
              "\n",
              "    .dataframe thead th {\n",
              "        text-align: right;\n",
              "    }\n",
              "</style>\n",
              "<table border=\"1\" class=\"dataframe\">\n",
              "  <thead>\n",
              "    <tr style=\"text-align: right;\">\n",
              "      <th></th>\n",
              "      <th>Date</th>\n",
              "      <th>Open</th>\n",
              "      <th>High</th>\n",
              "      <th>Low</th>\n",
              "      <th>Close</th>\n",
              "      <th>Adj Close</th>\n",
              "      <th>Volume</th>\n",
              "    </tr>\n",
              "  </thead>\n",
              "  <tbody>\n",
              "    <tr>\n",
              "      <th>0</th>\n",
              "      <td>2021-01-04</td>\n",
              "      <td>44.310001</td>\n",
              "      <td>44.369999</td>\n",
              "      <td>43.349998</td>\n",
              "      <td>43.959999</td>\n",
              "      <td>42.510708</td>\n",
              "      <td>24392500</td>\n",
              "    </tr>\n",
              "    <tr>\n",
              "      <th>1</th>\n",
              "      <td>2021-01-05</td>\n",
              "      <td>43.680000</td>\n",
              "      <td>44.070000</td>\n",
              "      <td>43.380001</td>\n",
              "      <td>43.980000</td>\n",
              "      <td>42.530041</td>\n",
              "      <td>17763700</td>\n",
              "    </tr>\n",
              "    <tr>\n",
              "      <th>2</th>\n",
              "      <td>2021-01-06</td>\n",
              "      <td>44.130001</td>\n",
              "      <td>44.869999</td>\n",
              "      <td>43.889999</td>\n",
              "      <td>44.400002</td>\n",
              "      <td>42.936207</td>\n",
              "      <td>21823100</td>\n",
              "    </tr>\n",
              "    <tr>\n",
              "      <th>3</th>\n",
              "      <td>2021-01-07</td>\n",
              "      <td>44.200001</td>\n",
              "      <td>45.110001</td>\n",
              "      <td>44.169998</td>\n",
              "      <td>44.959999</td>\n",
              "      <td>43.477741</td>\n",
              "      <td>18218800</td>\n",
              "    </tr>\n",
              "    <tr>\n",
              "      <th>4</th>\n",
              "      <td>2021-01-08</td>\n",
              "      <td>44.480000</td>\n",
              "      <td>45.410000</td>\n",
              "      <td>44.250000</td>\n",
              "      <td>45.060001</td>\n",
              "      <td>43.574444</td>\n",
              "      <td>20936300</td>\n",
              "    </tr>\n",
              "  </tbody>\n",
              "</table>\n",
              "</div>\n",
              "      <button class=\"colab-df-convert\" onclick=\"convertToInteractive('df-dddbca9d-69e4-4ac6-a751-eaeeea4c9ac8')\"\n",
              "              title=\"Convert this dataframe to an interactive table.\"\n",
              "              style=\"display:none;\">\n",
              "        \n",
              "  <svg xmlns=\"http://www.w3.org/2000/svg\" height=\"24px\"viewBox=\"0 0 24 24\"\n",
              "       width=\"24px\">\n",
              "    <path d=\"M0 0h24v24H0V0z\" fill=\"none\"/>\n",
              "    <path d=\"M18.56 5.44l.94 2.06.94-2.06 2.06-.94-2.06-.94-.94-2.06-.94 2.06-2.06.94zm-11 1L8.5 8.5l.94-2.06 2.06-.94-2.06-.94L8.5 2.5l-.94 2.06-2.06.94zm10 10l.94 2.06.94-2.06 2.06-.94-2.06-.94-.94-2.06-.94 2.06-2.06.94z\"/><path d=\"M17.41 7.96l-1.37-1.37c-.4-.4-.92-.59-1.43-.59-.52 0-1.04.2-1.43.59L10.3 9.45l-7.72 7.72c-.78.78-.78 2.05 0 2.83L4 21.41c.39.39.9.59 1.41.59.51 0 1.02-.2 1.41-.59l7.78-7.78 2.81-2.81c.8-.78.8-2.07 0-2.86zM5.41 20L4 18.59l7.72-7.72 1.47 1.35L5.41 20z\"/>\n",
              "  </svg>\n",
              "      </button>\n",
              "      \n",
              "  <style>\n",
              "    .colab-df-container {\n",
              "      display:flex;\n",
              "      flex-wrap:wrap;\n",
              "      gap: 12px;\n",
              "    }\n",
              "\n",
              "    .colab-df-convert {\n",
              "      background-color: #E8F0FE;\n",
              "      border: none;\n",
              "      border-radius: 50%;\n",
              "      cursor: pointer;\n",
              "      display: none;\n",
              "      fill: #1967D2;\n",
              "      height: 32px;\n",
              "      padding: 0 0 0 0;\n",
              "      width: 32px;\n",
              "    }\n",
              "\n",
              "    .colab-df-convert:hover {\n",
              "      background-color: #E2EBFA;\n",
              "      box-shadow: 0px 1px 2px rgba(60, 64, 67, 0.3), 0px 1px 3px 1px rgba(60, 64, 67, 0.15);\n",
              "      fill: #174EA6;\n",
              "    }\n",
              "\n",
              "    [theme=dark] .colab-df-convert {\n",
              "      background-color: #3B4455;\n",
              "      fill: #D2E3FC;\n",
              "    }\n",
              "\n",
              "    [theme=dark] .colab-df-convert:hover {\n",
              "      background-color: #434B5C;\n",
              "      box-shadow: 0px 1px 3px 1px rgba(0, 0, 0, 0.15);\n",
              "      filter: drop-shadow(0px 1px 2px rgba(0, 0, 0, 0.3));\n",
              "      fill: #FFFFFF;\n",
              "    }\n",
              "  </style>\n",
              "\n",
              "      <script>\n",
              "        const buttonEl =\n",
              "          document.querySelector('#df-dddbca9d-69e4-4ac6-a751-eaeeea4c9ac8 button.colab-df-convert');\n",
              "        buttonEl.style.display =\n",
              "          google.colab.kernel.accessAllowed ? 'block' : 'none';\n",
              "\n",
              "        async function convertToInteractive(key) {\n",
              "          const element = document.querySelector('#df-dddbca9d-69e4-4ac6-a751-eaeeea4c9ac8');\n",
              "          const dataTable =\n",
              "            await google.colab.kernel.invokeFunction('convertToInteractive',\n",
              "                                                     [key], {});\n",
              "          if (!dataTable) return;\n",
              "\n",
              "          const docLinkHtml = 'Like what you see? Visit the ' +\n",
              "            '<a target=\"_blank\" href=https://colab.research.google.com/notebooks/data_table.ipynb>data table notebook</a>'\n",
              "            + ' to learn more about interactive tables.';\n",
              "          element.innerHTML = '';\n",
              "          dataTable['output_type'] = 'display_data';\n",
              "          await google.colab.output.renderOutput(dataTable, element);\n",
              "          const docLink = document.createElement('div');\n",
              "          docLink.innerHTML = docLinkHtml;\n",
              "          element.appendChild(docLink);\n",
              "        }\n",
              "      </script>\n",
              "    </div>\n",
              "  </div>\n",
              "  "
            ]
          },
          "metadata": {},
          "execution_count": 3
        }
      ]
    },
    {
      "cell_type": "code",
      "source": [
        "dataset.isnull().sum()"
      ],
      "metadata": {
        "colab": {
          "base_uri": "https://localhost:8080/"
        },
        "id": "zLioG1HVt4o3",
        "outputId": "76812c52-ebe0-4849-aa02-4e2faa89be26"
      },
      "execution_count": 4,
      "outputs": [
        {
          "output_type": "execute_result",
          "data": {
            "text/plain": [
              "Date         0\n",
              "Open         0\n",
              "High         0\n",
              "Low          0\n",
              "Close        0\n",
              "Adj Close    0\n",
              "Volume       0\n",
              "dtype: int64"
            ]
          },
          "metadata": {},
          "execution_count": 4
        }
      ]
    },
    {
      "cell_type": "markdown",
      "source": [
        "THIS MEANS THERE IS NO MISSING DATA. HENCE DATASET IS CLEAN\n"
      ],
      "metadata": {
        "id": "1Jcx7G1Rt-Ic"
      }
    },
    {
      "cell_type": "code",
      "source": [
        "missing_percentage = dataset.isnull().sum()/len(dataset)\n",
        "print(missing_percentage)"
      ],
      "metadata": {
        "colab": {
          "base_uri": "https://localhost:8080/"
        },
        "id": "vqyHRlabuDVD",
        "outputId": "cac92ef1-b7c3-402b-f548-220f7932431b"
      },
      "execution_count": 5,
      "outputs": [
        {
          "output_type": "stream",
          "name": "stdout",
          "text": [
            "Date         0.0\n",
            "Open         0.0\n",
            "High         0.0\n",
            "Low          0.0\n",
            "Close        0.0\n",
            "Adj Close    0.0\n",
            "Volume       0.0\n",
            "dtype: float64\n"
          ]
        }
      ]
    },
    {
      "cell_type": "markdown",
      "source": [
        "No missing value!"
      ],
      "metadata": {
        "id": "3olBttbtuYxi"
      }
    },
    {
      "cell_type": "code",
      "source": [
        "x_variable = [\"Volume\", \"Low\", \"High\"]\n",
        "y_variable = [\"Close\"]\n",
        "\n",
        "x = np.array(dataset[x_variable]).reshape(-1,len(x_variable))\n",
        "y = np.array(dataset[y_variable]).reshape(-1,len(y_variable))\n",
        "\n",
        "#Splitting the data\n",
        "x_train, x_test, y_train, y_test = train_test_split(x, y, test_size = 0.2)\n",
        "print(x_train.shape)\n",
        "print(x_test.shape)"
      ],
      "metadata": {
        "colab": {
          "base_uri": "https://localhost:8080/"
        },
        "id": "C0xkN6q9ubj3",
        "outputId": "d22581a9-1ce2-4058-eb5d-c0fea808f37c"
      },
      "execution_count": 12,
      "outputs": [
        {
          "output_type": "stream",
          "name": "stdout",
          "text": [
            "(200, 3)\n",
            "(51, 3)\n"
          ]
        }
      ]
    },
    {
      "cell_type": "code",
      "source": [
        "model = LinearRegression().fit(x_train, y_train)"
      ],
      "metadata": {
        "id": "gWm0i8LNvLs4"
      },
      "execution_count": 13,
      "outputs": []
    },
    {
      "cell_type": "code",
      "source": [
        "#                   Volume    Low     High\n",
        "x_assum = np.array([30976600 ,53.45 ,55.66 ]) \n",
        "x_assum = x_assum.reshape(-1,3)\n",
        "\n",
        "y_predict = model.predict(x_assum)\n",
        "print(y_predict)"
      ],
      "metadata": {
        "colab": {
          "base_uri": "https://localhost:8080/"
        },
        "id": "uowO2GC3yPAQ",
        "outputId": "b92bddcb-3cea-447c-9250-6ba09f3c1904"
      },
      "execution_count": 18,
      "outputs": [
        {
          "output_type": "stream",
          "name": "stdout",
          "text": [
            "[[54.86733664]]\n"
          ]
        }
      ]
    },
    {
      "cell_type": "code",
      "source": [
        ""
      ],
      "metadata": {
        "id": "KAOoyKSv00DW"
      },
      "execution_count": null,
      "outputs": []
    },
    {
      "cell_type": "markdown",
      "source": [
        "- y_predict is the predicted Close figure\n",
        "\n",
        "- I will use Date ( Jan 28, 2022) as the actual value and input to predict the Close figure. \n",
        "- In this case, the actual Close figure is 55.61\n",
        "- Actual data: \n",
        "\n",
        "Volume: 30976600\n",
        "\n",
        "Low: 53.45\n",
        "\n",
        "High: 55.66\t"
      ],
      "metadata": {
        "id": "NGPypIaozbOw"
      }
    },
    {
      "cell_type": "markdown",
      "source": [
        "54.86 is the predicted value when used the real out put. \n",
        "Actual: 55.61\n",
        "Predicted: 54.86\n",
        "\n",
        "So as calculated, the result is very close to the actual data. This means we can use the multiple regression to find out a certain figure by using its y variables. \n",
        "\n",
        "Valuation: I think the stock owners or stock marketers could use this method to find analyze the data and could predict the value. This task has asked us to clean the data because without a clean data, meaning the dataset is incomplete as there is missing data. Missing data can lead to inaccurate predictions and analysis. This task has provided the importance of data cleansing. The task was also to make a model of a multiple regression to find out an expected data. I think the expected data is very close to real data which in this case proves that it is usable in the stock market business. "
      ],
      "metadata": {
        "id": "aiWu-TbS04VR"
      }
    }
  ]
}